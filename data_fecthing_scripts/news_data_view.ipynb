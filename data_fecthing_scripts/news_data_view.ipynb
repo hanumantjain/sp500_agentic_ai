{
 "cells": [
  {
   "cell_type": "code",
   "execution_count": 4,
   "id": "1f188fc5",
   "metadata": {},
   "outputs": [],
   "source": [
    "# pip install datasets pyarrow\n",
    "from datasets import load_dataset\n",
    "import pandas as pd\n",
    "\n",
    "ds = load_dataset(\n",
    "  \"parquet\",\n",
    "  data_files=\"https://huggingface.co/datasets/bwzheng2010/yahoo-finance-data/resolve/main/data/stock_news.parquet\"\n",
    ")\n",
    "\n"
   ]
  },
  {
   "cell_type": "code",
   "execution_count": 5,
   "id": "e0667e70",
   "metadata": {},
   "outputs": [
    {
     "name": "stdout",
     "output_type": "stream",
     "text": [
      "13132 unique symbols\n"
     ]
    }
   ],
   "source": [
    "df = ds[\"train\"].to_pandas()\n",
    "syms = (\n",
    "    df[\"related_symbols\"]\n",
    "    .explode()                 # turn lists into rows\n",
    "    .dropna()\n",
    "    .astype(str)\n",
    "    .str.strip()\n",
    "    .unique()\n",
    ")\n",
    "print(len(syms), \"unique symbols\")\n"
   ]
  },
  {
   "cell_type": "code",
   "execution_count": 6,
   "id": "91c03c95",
   "metadata": {},
   "outputs": [
    {
     "name": "stdout",
     "output_type": "stream",
     "text": [
      "min: 2025-03-11 00:00:00+00:00 max: 2025-09-13 00:00:00+00:00\n"
     ]
    }
   ],
   "source": [
    "df[\"report_date\"] = pd.to_datetime(df[\"report_date\"], errors=\"coerce\", utc=True)\n",
    "print(\"min:\", df[\"report_date\"].min(), \"max:\", df[\"report_date\"].max())\n"
   ]
  }
 ],
 "metadata": {
  "kernelspec": {
   "display_name": ".venv",
   "language": "python",
   "name": "python3"
  },
  "language_info": {
   "codemirror_mode": {
    "name": "ipython",
    "version": 3
   },
   "file_extension": ".py",
   "mimetype": "text/x-python",
   "name": "python",
   "nbconvert_exporter": "python",
   "pygments_lexer": "ipython3",
   "version": "3.9.6"
  }
 },
 "nbformat": 4,
 "nbformat_minor": 5
}
